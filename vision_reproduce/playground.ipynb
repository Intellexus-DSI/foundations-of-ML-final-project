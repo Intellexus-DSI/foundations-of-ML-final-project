{
 "cells": [
  {
   "cell_type": "code",
   "execution_count": 1,
   "id": "fca90da9",
   "metadata": {},
   "outputs": [
    {
     "ename": "ImportError",
     "evalue": "cannot import name 'RandLoRAConfig' from 'peft' (/opt/anaconda3/envs/guyb_fml/lib/python3.11/site-packages/peft/__init__.py)",
     "output_type": "error",
     "traceback": [
      "\u001b[0;31m---------------------------------------------------------------------------\u001b[0m",
      "\u001b[0;31mImportError\u001b[0m                               Traceback (most recent call last)",
      "Cell \u001b[0;32mIn[1], line 6\u001b[0m\n\u001b[1;32m      4\u001b[0m \u001b[38;5;28;01mfrom\u001b[39;00m \u001b[38;5;21;01mtorchvision\u001b[39;00m\u001b[38;5;21;01m.\u001b[39;00m\u001b[38;5;21;01mdatasets\u001b[39;00m \u001b[38;5;28;01mimport\u001b[39;00m CIFAR10\n\u001b[1;32m      5\u001b[0m \u001b[38;5;28;01mfrom\u001b[39;00m \u001b[38;5;21;01mtransformers\u001b[39;00m \u001b[38;5;28;01mimport\u001b[39;00m AutoTokenizer, TrainingArguments, Trainer, CLIPProcessor, CLIPModel\n\u001b[0;32m----> 6\u001b[0m \u001b[38;5;28;01mfrom\u001b[39;00m \u001b[38;5;21;01mpeft\u001b[39;00m \u001b[38;5;28;01mimport\u001b[39;00m get_peft_model, LoraConfig, TaskType, RandLoRAConfig\n\u001b[1;32m      7\u001b[0m \u001b[38;5;28;01mfrom\u001b[39;00m \u001b[38;5;21;01mpeft\u001b[39;00m\u001b[38;5;21;01m.\u001b[39;00m\u001b[38;5;21;01mtuners\u001b[39;00m\u001b[38;5;21;01m.\u001b[39;00m\u001b[38;5;21;01mlora\u001b[39;00m \u001b[38;5;28;01mimport\u001b[39;00m LoraLayer\n\u001b[1;32m      9\u001b[0m \u001b[38;5;28;01mfrom\u001b[39;00m \u001b[38;5;21;01mdatasets\u001b[39;00m \u001b[38;5;28;01mimport\u001b[39;00m Dataset\n",
      "\u001b[0;31mImportError\u001b[0m: cannot import name 'RandLoRAConfig' from 'peft' (/opt/anaconda3/envs/guyb_fml/lib/python3.11/site-packages/peft/__init__.py)"
     ]
    }
   ],
   "source": [
    "import torch\n",
    "from torch.utils.data import DataLoader\n",
    "from torchvision import transforms\n",
    "from torchvision.datasets import CIFAR10\n",
    "from transformers import AutoTokenizer, TrainingArguments, Trainer, CLIPProcessor, CLIPModel\n",
    "from peft import get_peft_model, LoraConfig, TaskType, RandLoRAConfig\n",
    "from peft.tuners.lora import LoraLayer\n",
    "\n",
    "from datasets import Dataset\n",
    "import numpy as np\n",
    "from math import floor"
   ]
  },
  {
   "cell_type": "code",
   "execution_count": 2,
   "id": "54154d3c",
   "metadata": {},
   "outputs": [
    {
     "name": "stdout",
     "output_type": "stream",
     "text": [
      "✅ DTD train/val directories created successfully.\n"
     ]
    }
   ],
   "source": [
    "import os\n",
    "import shutil\n",
    "\n",
    "def create_split(dtd_root, split_file, split_name):\n",
    "    with open(os.path.join(dtd_root, \"labels\", split_file), \"r\") as f:\n",
    "        lines = [line.strip() for line in f]\n",
    "\n",
    "    for rel_path in lines:\n",
    "        class_name, filename = rel_path.split(\"/\")\n",
    "        src = os.path.join(dtd_root, \"images\", class_name, filename)\n",
    "        dst = os.path.join(dtd_root, split_name, class_name, filename)\n",
    "        os.makedirs(os.path.dirname(dst), exist_ok=True)\n",
    "        if not os.path.exists(dst):\n",
    "            shutil.copy2(src, dst)\n",
    "\n",
    "# Set this to your actual dataset path\n",
    "dtd_root = \"/home/guyb/Documents/data/dtd\"\n",
    "\n",
    "create_split(dtd_root, \"train1.txt\", \"train\")\n",
    "create_split(dtd_root, \"val1.txt\", \"val\")\n",
    "\n",
    "print(\"✅ DTD train/val directories created successfully.\")\n"
   ]
  },
  {
   "cell_type": "code",
   "execution_count": 10,
   "id": "8e002254",
   "metadata": {},
   "outputs": [
    {
     "name": "stdout",
     "output_type": "stream",
     "text": [
      "✅ EuroSAT_RGB.zip already exists.\n",
      "✅ Dataset already extracted.\n",
      "✅ Finished preparing EuroSAT_splits with train/val folders.\n"
     ]
    }
   ],
   "source": [
    "import os\n",
    "import subprocess\n",
    "import zipfile\n",
    "import shutil\n",
    "import requests\n",
    "from tqdm import tqdm\n",
    "from sklearn.model_selection import train_test_split\n",
    "\n",
    "# Correct path for training script compatibility\n",
    "base_path = os.path.expanduser(\"~/Documents/data\")  # This is where the model expects it\n",
    "\n",
    "# Ensure base folders exist\n",
    "os.makedirs(base_path, exist_ok=True)\n",
    "\n",
    "# Config\n",
    "download_url = \"https://zenodo.org/record/7711810/files/EuroSAT_RGB.zip\"\n",
    "zip_path = base_path + \"/EuroSAT_RGB.zip\"\n",
    "extract_to = base_path + \"/EuroSAT_raw\"\n",
    "dataset_root = os.path.join(extract_to, \"EuroSAT_RGB\")\n",
    "split_output = base_path + \"/EuroSAT_splits\"\n",
    "val_ratio = 0.2\n",
    "seed = 42\n",
    "\n",
    "# Step 1: Download if not already present\n",
    "if not os.path.exists(zip_path):\n",
    "    print(\"Downloading EuroSAT_RGB.zip...\")\n",
    "    response = requests.get(download_url, stream=True)\n",
    "    total_size = int(response.headers.get('content-length', 0))\n",
    "    with open(zip_path, \"wb\") as f, tqdm(\n",
    "        desc=\"Downloading\",\n",
    "        total=total_size,\n",
    "        unit=\"B\",\n",
    "        unit_scale=True,\n",
    "        unit_divisor=1024,\n",
    "    ) as bar:\n",
    "        for chunk in response.iter_content(chunk_size=1024):\n",
    "            if chunk:\n",
    "                f.write(chunk)\n",
    "                bar.update(len(chunk))\n",
    "else:\n",
    "    print(\"✅ EuroSAT_RGB.zip already exists.\")\n",
    "\n",
    "# Step 2: Extract\n",
    "if not os.path.exists(dataset_root):\n",
    "    print(\"Extracting...\")\n",
    "    subprocess.run([\"unzip\", \"-oq\", zip_path, \"-d\", extract_to], check=True)\n",
    "else:\n",
    "    print(\"✅ Dataset already extracted.\")\n",
    "\n",
    "# Step 3: Split and organize\n",
    "for split in ['train', 'val']:\n",
    "    os.makedirs(os.path.join(split_output, split), exist_ok=True)\n",
    "\n",
    "for class_name in os.listdir(dataset_root):\n",
    "    full_class_path = os.path.join(dataset_root, class_name)\n",
    "    if not os.path.isdir(full_class_path):\n",
    "        continue\n",
    "\n",
    "    images = os.listdir(full_class_path)\n",
    "    train_imgs, val_imgs = train_test_split(images, test_size=val_ratio, random_state=seed)\n",
    "\n",
    "    for split, img_list in zip([\"train\", \"val\"], [train_imgs, val_imgs]):\n",
    "        class_output = os.path.join(split_output, split, class_name)\n",
    "        os.makedirs(class_output, exist_ok=True)\n",
    "        for img in img_list:\n",
    "            src = os.path.join(full_class_path, img)\n",
    "            dst = os.path.join(class_output, img)\n",
    "            shutil.copyfile(src, dst)\n",
    "\n",
    "print(\"✅ Finished preparing EuroSAT_splits with train/val folders.\")\n"
   ]
  },
  {
   "cell_type": "code",
   "execution_count": 11,
   "id": "e2bcba46",
   "metadata": {},
   "outputs": [
    {
     "name": "stdout",
     "output_type": "stream",
     "text": [
      "Downloading train split...\n",
      "Downloading val split...\n",
      "Downloading test split...\n"
     ]
    }
   ],
   "source": [
    "import os\n",
    "import requests\n",
    "\n",
    "target_dir = os.path.expanduser(\"~/Documents/data/resisc45\")\n",
    "os.makedirs(target_dir, exist_ok=True)\n",
    "\n",
    "splits = [\"train\", \"val\", \"test\"]\n",
    "for split in splits:\n",
    "    url = f\"https://storage.googleapis.com/remote_sensing_representations/resisc45-{split}.txt\"\n",
    "    out_path = os.path.join(target_dir, f\"resisc45-{split}.txt\")\n",
    "    if not os.path.exists(out_path):\n",
    "        print(f\"Downloading {split} split...\")\n",
    "        r = requests.get(url)\n",
    "        with open(out_path, \"w\") as f:\n",
    "            f.write(r.text)\n",
    "    else:\n",
    "        print(f\"{split} split already exists.\")\n"
   ]
  },
  {
   "cell_type": "code",
   "execution_count": null,
   "id": "eb705b8c",
   "metadata": {},
   "outputs": [],
   "source": []
  },
  {
   "cell_type": "code",
   "execution_count": null,
   "id": "3f756b1a",
   "metadata": {},
   "outputs": [],
   "source": []
  },
  {
   "cell_type": "code",
   "execution_count": null,
   "id": "d8cfc463",
   "metadata": {},
   "outputs": [],
   "source": []
  },
  {
   "cell_type": "code",
   "execution_count": null,
   "id": "5701c569",
   "metadata": {},
   "outputs": [],
   "source": [
    "# 1. Load CIFAR10\n",
    "transform = transforms.Compose([\n",
    "    transforms.Resize((224, 224)),\n",
    "    transforms.ToTensor(),\n",
    "    transforms.Normalize((0.5,), (0.5,)),\n",
    "])\n",
    "\n",
    "trainset = CIFAR10(root='./data', train=True, download=True, transform=transform)\n",
    "testset = CIFAR10(root='./data', train=False, download=True, transform=transform)"
   ]
  },
  {
   "cell_type": "code",
   "execution_count": null,
   "id": "3c84c072",
   "metadata": {},
   "outputs": [],
   "source": [
    "# 2. Wrap into HF dataset for Trainer compatibility\n",
    "def convert_to_hf(ds):\n",
    "    return Dataset.from_dict({\n",
    "        'pixel_values': [img.numpy() for img, _ in ds],\n",
    "        'labels': [label for _, label in ds],\n",
    "    })\n",
    "\n",
    "train_dataset = convert_to_hf(trainset)\n",
    "eval_dataset = convert_to_hf(testset)"
   ]
  },
  {
   "cell_type": "code",
   "execution_count": null,
   "id": "6044620e",
   "metadata": {},
   "outputs": [],
   "source": [
    "# 3. Load CLIP (ViT-B-32) model & processor\n",
    "model_name = \"openai/clip-vit-base-patch32\"\n",
    "model = CLIPModel.from_pretrained(model_name)\n",
    "processor = CLIPProcessor.from_pretrained(model_name)"
   ]
  },
  {
   "cell_type": "code",
   "execution_count": null,
   "id": "dabc3bce",
   "metadata": {},
   "outputs": [],
   "source": [
    "# 4. Add RandLoRA\n",
    "peft_config = RandLoRAConfig(\n",
    "    r=6,\n",
    "    target_modules=[\"q_proj\", \"v_proj\"],  # Modify as needed for CLIP\n",
    "    task_type=TaskType.VISION,\n",
    "    rank_pattern=\"normal\",  # optional\n",
    ")\n",
    "\n",
    "model = get_peft_model(model, peft_config)"
   ]
  },
  {
   "cell_type": "code",
   "execution_count": null,
   "id": "50e62dff",
   "metadata": {},
   "outputs": [],
   "source": [
    "# 5. Data preprocessing\n",
    "def preprocess(batch):\n",
    "    inputs = processor(images=[torch.tensor(x) for x in batch[\"pixel_values\"]], return_tensors=\"pt\", padding=True)\n",
    "    inputs[\"labels\"] = batch[\"labels\"]\n",
    "    return inputs\n",
    "\n",
    "train_dataset = train_dataset.map(preprocess, batched=True)\n",
    "eval_dataset = eval_dataset.map(preprocess, batched=True)"
   ]
  },
  {
   "cell_type": "code",
   "execution_count": null,
   "id": "70a24ae6",
   "metadata": {},
   "outputs": [],
   "source": [
    "\n",
    "# Assume batch_size is 32 to compute gradient accumulation steps (128 // 32 = 4)\n",
    "batch_size = 32\n",
    "num_grad_accumulation = floor(128 / batch_size)\n",
    "\n",
    "training_args = TrainingArguments(\n",
    "    output_dir=\"./randlora_cifar10\",\n",
    "    evaluation_strategy=\"epoch\",\n",
    "    save_strategy=\"epoch\",\n",
    "    per_device_train_batch_size=batch_size,\n",
    "    per_device_eval_batch_size=batch_size,\n",
    "    num_train_epochs=5,                           # or set dynamically from args.epochs\n",
    "    learning_rate=1e-3,                           # match your default classifier LR (if not using lp_clip)\n",
    "    weight_decay=0.01,                            # match args.wd (adjust if different)\n",
    "    gradient_accumulation_steps=num_grad_accumulation,\n",
    "    lr_scheduler_type=\"cosine\",                   # match your cosine_lr() scheduler\n",
    "    logging_steps=10,\n",
    "    report_to=\"none\",\n",
    "    remove_unused_columns=False,\n",
    "    fp16=False,                                   # use bf16 in your script, so keep this False unless you prefer fp16\n",
    "    bf16=True if torch.cuda.is_available() else False,\n",
    ")\n"
   ]
  },
  {
   "cell_type": "code",
   "execution_count": null,
   "id": "0f777901",
   "metadata": {},
   "outputs": [],
   "source": [
    "# 7. Trainer\n",
    "trainer = Trainer(\n",
    "    model=model,\n",
    "    args=training_args,\n",
    "    train_dataset=train_dataset,\n",
    "    eval_dataset=eval_dataset,\n",
    ")"
   ]
  },
  {
   "cell_type": "code",
   "execution_count": null,
   "id": "7b5836e7",
   "metadata": {},
   "outputs": [],
   "source": [
    "# 8. Train\n",
    "trainer.train()"
   ]
  }
 ],
 "metadata": {
  "kernelspec": {
   "display_name": "guyb_fml",
   "language": "python",
   "name": "python3"
  },
  "language_info": {
   "codemirror_mode": {
    "name": "ipython",
    "version": 3
   },
   "file_extension": ".py",
   "mimetype": "text/x-python",
   "name": "python",
   "nbconvert_exporter": "python",
   "pygments_lexer": "ipython3",
   "version": "3.11.8"
  }
 },
 "nbformat": 4,
 "nbformat_minor": 5
}
