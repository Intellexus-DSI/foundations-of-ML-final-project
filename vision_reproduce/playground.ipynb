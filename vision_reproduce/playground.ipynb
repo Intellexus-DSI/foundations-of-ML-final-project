{
 "cells": [
  {
   "cell_type": "code",
   "execution_count": 1,
   "id": "fca90da9",
   "metadata": {},
   "outputs": [
    {
     "ename": "ImportError",
     "evalue": "cannot import name 'RandLoRAConfig' from 'peft' (/opt/anaconda3/envs/guyb_fml/lib/python3.11/site-packages/peft/__init__.py)",
     "output_type": "error",
     "traceback": [
      "\u001b[0;31m---------------------------------------------------------------------------\u001b[0m",
      "\u001b[0;31mImportError\u001b[0m                               Traceback (most recent call last)",
      "Cell \u001b[0;32mIn[1], line 6\u001b[0m\n\u001b[1;32m      4\u001b[0m \u001b[38;5;28;01mfrom\u001b[39;00m \u001b[38;5;21;01mtorchvision\u001b[39;00m\u001b[38;5;21;01m.\u001b[39;00m\u001b[38;5;21;01mdatasets\u001b[39;00m \u001b[38;5;28;01mimport\u001b[39;00m CIFAR10\n\u001b[1;32m      5\u001b[0m \u001b[38;5;28;01mfrom\u001b[39;00m \u001b[38;5;21;01mtransformers\u001b[39;00m \u001b[38;5;28;01mimport\u001b[39;00m AutoTokenizer, TrainingArguments, Trainer, CLIPProcessor, CLIPModel\n\u001b[0;32m----> 6\u001b[0m \u001b[38;5;28;01mfrom\u001b[39;00m \u001b[38;5;21;01mpeft\u001b[39;00m \u001b[38;5;28;01mimport\u001b[39;00m get_peft_model, LoraConfig, TaskType, RandLoRAConfig\n\u001b[1;32m      7\u001b[0m \u001b[38;5;28;01mfrom\u001b[39;00m \u001b[38;5;21;01mpeft\u001b[39;00m\u001b[38;5;21;01m.\u001b[39;00m\u001b[38;5;21;01mtuners\u001b[39;00m\u001b[38;5;21;01m.\u001b[39;00m\u001b[38;5;21;01mlora\u001b[39;00m \u001b[38;5;28;01mimport\u001b[39;00m LoraLayer\n\u001b[1;32m      9\u001b[0m \u001b[38;5;28;01mfrom\u001b[39;00m \u001b[38;5;21;01mdatasets\u001b[39;00m \u001b[38;5;28;01mimport\u001b[39;00m Dataset\n",
      "\u001b[0;31mImportError\u001b[0m: cannot import name 'RandLoRAConfig' from 'peft' (/opt/anaconda3/envs/guyb_fml/lib/python3.11/site-packages/peft/__init__.py)"
     ]
    }
   ],
   "source": [
    "import torch\n",
    "from torch.utils.data import DataLoader\n",
    "from torchvision import transforms\n",
    "from torchvision.datasets import CIFAR10\n",
    "from transformers import AutoTokenizer, TrainingArguments, Trainer, CLIPProcessor, CLIPModel\n",
    "from peft import get_peft_model, LoraConfig, TaskType, RandLoRAConfig\n",
    "from peft.tuners.lora import LoraLayer\n",
    "\n",
    "from datasets import Dataset\n",
    "import numpy as np\n",
    "from math import floor"
   ]
  },
  {
   "cell_type": "code",
   "execution_count": 2,
   "id": "54154d3c",
   "metadata": {},
   "outputs": [
    {
     "name": "stdout",
     "output_type": "stream",
     "text": [
      "✅ DTD train/val directories created successfully.\n"
     ]
    }
   ],
   "source": [
    "import os\n",
    "import shutil\n",
    "\n",
    "def create_split(dtd_root, split_file, split_name):\n",
    "    with open(os.path.join(dtd_root, \"labels\", split_file), \"r\") as f:\n",
    "        lines = [line.strip() for line in f]\n",
    "\n",
    "    for rel_path in lines:\n",
    "        class_name, filename = rel_path.split(\"/\")\n",
    "        src = os.path.join(dtd_root, \"images\", class_name, filename)\n",
    "        dst = os.path.join(dtd_root, split_name, class_name, filename)\n",
    "        os.makedirs(os.path.dirname(dst), exist_ok=True)\n",
    "        if not os.path.exists(dst):\n",
    "            shutil.copy2(src, dst)\n",
    "\n",
    "# Set this to your actual dataset path\n",
    "dtd_root = \"/home/guyb/Documents/data/dtd\"\n",
    "\n",
    "create_split(dtd_root, \"train1.txt\", \"train\")\n",
    "create_split(dtd_root, \"val1.txt\", \"val\")\n",
    "\n",
    "print(\"✅ DTD train/val directories created successfully.\")\n"
   ]
  },
  {
   "cell_type": "code",
   "execution_count": 10,
   "id": "8e002254",
   "metadata": {},
   "outputs": [
    {
     "name": "stdout",
     "output_type": "stream",
     "text": [
      "✅ EuroSAT_RGB.zip already exists.\n",
      "✅ Dataset already extracted.\n",
      "✅ Finished preparing EuroSAT_splits with train/val folders.\n"
     ]
    }
   ],
   "source": [
    "import os\n",
    "import subprocess\n",
    "import zipfile\n",
    "import shutil\n",
    "import requests\n",
    "from tqdm import tqdm\n",
    "from sklearn.model_selection import train_test_split\n",
    "\n",
    "# Correct path for training script compatibility\n",
    "base_path = os.path.expanduser(\"~/Documents/data\")  # This is where the model expects it\n",
    "\n",
    "# Ensure base folders exist\n",
    "os.makedirs(base_path, exist_ok=True)\n",
    "\n",
    "# Config\n",
    "download_url = \"https://zenodo.org/record/7711810/files/EuroSAT_RGB.zip\"\n",
    "zip_path = base_path + \"/EuroSAT_RGB.zip\"\n",
    "extract_to = base_path + \"/EuroSAT_raw\"\n",
    "dataset_root = os.path.join(extract_to, \"EuroSAT_RGB\")\n",
    "split_output = base_path + \"/EuroSAT_splits\"\n",
    "val_ratio = 0.2\n",
    "seed = 42\n",
    "\n",
    "# Step 1: Download if not already present\n",
    "if not os.path.exists(zip_path):\n",
    "    print(\"Downloading EuroSAT_RGB.zip...\")\n",
    "    response = requests.get(download_url, stream=True)\n",
    "    total_size = int(response.headers.get('content-length', 0))\n",
    "    with open(zip_path, \"wb\") as f, tqdm(\n",
    "        desc=\"Downloading\",\n",
    "        total=total_size,\n",
    "        unit=\"B\",\n",
    "        unit_scale=True,\n",
    "        unit_divisor=1024,\n",
    "    ) as bar:\n",
    "        for chunk in response.iter_content(chunk_size=1024):\n",
    "            if chunk:\n",
    "                f.write(chunk)\n",
    "                bar.update(len(chunk))\n",
    "else:\n",
    "    print(\"✅ EuroSAT_RGB.zip already exists.\")\n",
    "\n",
    "# Step 2: Extract\n",
    "if not os.path.exists(dataset_root):\n",
    "    print(\"Extracting...\")\n",
    "    subprocess.run([\"unzip\", \"-oq\", zip_path, \"-d\", extract_to], check=True)\n",
    "else:\n",
    "    print(\"✅ Dataset already extracted.\")\n",
    "\n",
    "# Step 3: Split and organize\n",
    "for split in ['train', 'val']:\n",
    "    os.makedirs(os.path.join(split_output, split), exist_ok=True)\n",
    "\n",
    "for class_name in os.listdir(dataset_root):\n",
    "    full_class_path = os.path.join(dataset_root, class_name)\n",
    "    if not os.path.isdir(full_class_path):\n",
    "        continue\n",
    "\n",
    "    images = os.listdir(full_class_path)\n",
    "    train_imgs, val_imgs = train_test_split(images, test_size=val_ratio, random_state=seed)\n",
    "\n",
    "    for split, img_list in zip([\"train\", \"val\"], [train_imgs, val_imgs]):\n",
    "        class_output = os.path.join(split_output, split, class_name)\n",
    "        os.makedirs(class_output, exist_ok=True)\n",
    "        for img in img_list:\n",
    "            src = os.path.join(full_class_path, img)\n",
    "            dst = os.path.join(class_output, img)\n",
    "            shutil.copyfile(src, dst)\n",
    "\n",
    "print(\"✅ Finished preparing EuroSAT_splits with train/val folders.\")\n"
   ]
  },
  {
   "cell_type": "code",
   "execution_count": 18,
   "id": "e2bcba46",
   "metadata": {},
   "outputs": [
    {
     "name": "stdout",
     "output_type": "stream",
     "text": [
      "⚙️  processing train split …\n"
     ]
    },
    {
     "data": {
      "application/vnd.jupyter.widget-view+json": {
       "model_id": "35308a3601be48b28eabe0b8bee80a5d",
       "version_major": 2,
       "version_minor": 0
      },
      "text/plain": [
       "  0%|          | 0/18900 [00:00<?, ?it/s]"
      ]
     },
     "metadata": {},
     "output_type": "display_data"
    },
    {
     "name": "stdout",
     "output_type": "stream",
     "text": [
      "⚙️  processing test split …\n"
     ]
    },
    {
     "data": {
      "application/vnd.jupyter.widget-view+json": {
       "model_id": "beba3eafe8e3498b87bd21a46e770e31",
       "version_major": 2,
       "version_minor": 0
      },
      "text/plain": [
       "  0%|          | 0/6300 [00:00<?, ?it/s]"
      ]
     },
     "metadata": {},
     "output_type": "display_data"
    },
    {
     "name": "stdout",
     "output_type": "stream",
     "text": [
      "✅ wrote resisc45/resisc45-train.txt  (18900 images)\n",
      "✅ wrote resisc45/resisc45-test.txt  (6300 images)\n",
      "\n",
      "🎉  RESISC‑45 ready at: /home/guyb/Documents/data/resisc45\n",
      "   Image root for ImageFolder : /home/guyb/Documents/data/resisc45/NWPU-RESISC45\n"
     ]
    }
   ],
   "source": [
    "# --------------------------------------------------------------------------------------------------\n",
    "# Build RESISC‑45 exactly the way the vision_language repo expects it\n",
    "# --------------------------------------------------------------------------------------------------\n",
    "import os, shutil, hashlib\n",
    "from pathlib import Path\n",
    "from datasets import load_dataset\n",
    "from tqdm.auto import tqdm\n",
    "from PIL import Image\n",
    "\n",
    "# ── config ─────────────────────────────────────────────────────────────────────────\n",
    "BASE_DIR    = Path(\"~/Documents/data\").expanduser()   # <‑‑ change if you want\n",
    "RES_ROOT    = BASE_DIR / \"resisc45\"                   # root given to your script\n",
    "IMG_ROOT    = RES_ROOT / \"NWPU-RESISC45\"              # where ImageFolder will read\n",
    "MAKE_LINKS  = True                                    # True = symlink, False = copy\n",
    "SPLITS      = (\"train\", \"test\")                # HF splits match paper splits\n",
    "# ----------------------------------------------------------------------------------\n",
    "\n",
    "def safe_mkdir(p: Path):\n",
    "    p.mkdir(parents=True, exist_ok=True)\n",
    "\n",
    "def reset_dir(p: Path):\n",
    "    if p.exists():\n",
    "        shutil.rmtree(p)\n",
    "    safe_mkdir(p)\n",
    "\n",
    "# 1️⃣ start fresh (optional – comment out if you DON’T want to erase previous work)\n",
    "reset_dir(IMG_ROOT)\n",
    "safe_mkdir(RES_ROOT)          # keep split files outside the image tree\n",
    "\n",
    "# 2️⃣ load HF dataset (caches under ~/.cache/huggingface by default, so 2nd run is instant)\n",
    "ds = load_dataset(\"timm/resisc45\")\n",
    "\n",
    "# 3️⃣ write images + gather split file names\n",
    "split_lists = {s: [] for s in SPLITS}\n",
    "\n",
    "for split in SPLITS:\n",
    "    print(f\"⚙️  processing {split} split …\")\n",
    "    for ex in tqdm(ds[split]):\n",
    "        label_idx  = ex[\"label\"]\n",
    "        cls_name   = ds[split].features[\"label\"].int2str(label_idx)\n",
    "        img: Image.Image = ex[\"image\"]\n",
    "\n",
    "        # filename: keep original SHA‑1 HF hash to avoid name clashes\n",
    "        sha1 = hashlib.sha1(img.tobytes()).hexdigest()[:16]\n",
    "        fname = f\"{cls_name}_{sha1}.jpg\"\n",
    "\n",
    "        # destination path\n",
    "        dest_dir  = IMG_ROOT / cls_name\n",
    "        dest_path = dest_dir / fname\n",
    "        safe_mkdir(dest_dir)\n",
    "\n",
    "        if not dest_path.exists():\n",
    "            if MAKE_LINKS and \"file\" in ex and Path(ex[\"file\"]).is_file():\n",
    "                # create a *symlink* to the cached file\n",
    "                os.symlink(os.path.abspath(ex[\"file\"]), dest_path)\n",
    "            else:\n",
    "                # fall back to save/copy\n",
    "                img.save(dest_path)\n",
    "\n",
    "        split_lists[split].append(fname)\n",
    "\n",
    "# 4️⃣ write split text files (filenames only, one per line)\n",
    "for split, names in split_lists.items():\n",
    "    txt_path = RES_ROOT / f\"resisc45-{split}.txt\"\n",
    "    with open(txt_path, \"w\") as f:\n",
    "        f.write(\"\\n\".join(names))\n",
    "    print(f\"✅ wrote {txt_path.relative_to(BASE_DIR)}  ({len(names)} images)\")\n",
    "\n",
    "print(\"\\n🎉  RESISC‑45 ready at:\", RES_ROOT)\n",
    "print(\"   Image root for ImageFolder :\", IMG_ROOT)\n"
   ]
  },
  {
   "cell_type": "code",
   "execution_count": null,
   "id": "eb705b8c",
   "metadata": {},
   "outputs": [
    {
     "data": {
      "application/vnd.jupyter.widget-view+json": {
       "model_id": "90561907eaba4571b37ad95918e401af",
       "version_major": 2,
       "version_minor": 0
      },
      "text/plain": [
       "Resolving data files:   0%|          | 0/18 [00:00<?, ?it/s]"
      ]
     },
     "metadata": {},
     "output_type": "display_data"
    },
    {
     "data": {
      "application/vnd.jupyter.widget-view+json": {
       "model_id": "44aec3169b21462099eaec61075231ef",
       "version_major": 2,
       "version_minor": 0
      },
      "text/plain": [
       "Resolving data files:   0%|          | 0/18 [00:00<?, ?it/s]"
      ]
     },
     "metadata": {},
     "output_type": "display_data"
    },
    {
     "data": {
      "application/vnd.jupyter.widget-view+json": {
       "model_id": "bfa8138b00584b40811fb3b6f99684ed",
       "version_major": 2,
       "version_minor": 0
      },
      "text/plain": [
       "Resolving data files:   0%|          | 0/18 [00:00<?, ?it/s]"
      ]
     },
     "metadata": {},
     "output_type": "display_data"
    },
    {
     "data": {
      "application/vnd.jupyter.widget-view+json": {
       "model_id": "af2b272d93694965916bf592496912c2",
       "version_major": 2,
       "version_minor": 0
      },
      "text/plain": [
       "Resolving data files:   0%|          | 0/18 [00:00<?, ?it/s]"
      ]
     },
     "metadata": {},
     "output_type": "display_data"
    },
    {
     "name": "stdout",
     "output_type": "stream",
     "text": [
      "Processing split: train\n"
     ]
    },
    {
     "data": {
      "application/vnd.jupyter.widget-view+json": {
       "model_id": "5ca9cb2266bc4fc28325a9d89c490cc3",
       "version_major": 2,
       "version_minor": 0
      },
      "text/plain": [
       "  0%|          | 0/19850 [00:00<?, ?it/s]"
      ]
     },
     "metadata": {},
     "output_type": "display_data"
    },
    {
     "name": "stdout",
     "output_type": "stream",
     "text": [
      "Processing split: test\n"
     ]
    },
    {
     "data": {
      "application/vnd.jupyter.widget-view+json": {
       "model_id": "3e7ed8c624dd43108f5f0acbd5816bed",
       "version_major": 2,
       "version_minor": 0
      },
      "text/plain": [
       "  0%|          | 0/19850 [00:00<?, ?it/s]"
      ]
     },
     "metadata": {},
     "output_type": "display_data"
    },
    {
     "name": "stderr",
     "output_type": "stream",
     "text": [
      "/opt/anaconda3/envs/guyb_fml/lib/python3.11/site-packages/PIL/TiffImagePlugin.py:870: UserWarning: Truncated File Read\n",
      "  warnings.warn(str(msg))\n"
     ]
    },
    {
     "name": "stdout",
     "output_type": "stream",
     "text": [
      "✅ wrote sun397/sun397-train.txt  (19850 images)\n",
      "✅ ready at split folder: sun397/train\n",
      "✅ wrote sun397/sun397-test.txt  (19850 images)\n",
      "✅ ready at split folder: sun397/test\n",
      "\n",
      "🎉  SUN397 ready at: /home/guyb/Documents/data/sun397\n",
      "   Use these in ImageFolder:\n",
      "     /home/guyb/Documents/data/sun397/train\n",
      "     /home/guyb/Documents/data/sun397/test\n"
     ]
    }
   ],
   "source": [
    "import os, shutil, hashlib\n",
    "from pathlib import Path\n",
    "from datasets import load_dataset\n",
    "from tqdm.auto import tqdm\n",
    "from PIL import Image\n",
    "\n",
    "# ── config ─────────────────────────────────────────────────────────────\n",
    "BASE_DIR    = Path(\"~/Documents/data\").expanduser()\n",
    "SUN_ROOT    = BASE_DIR / \"sun397\"\n",
    "IMG_ROOT    = SUN_ROOT / \"SUN397\"\n",
    "SPLIT_DIRS  = {s: SUN_ROOT / s for s in (\"train\", \"test\")}\n",
    "SPLITS      = (\"train\", \"test\")\n",
    "MAKE_LINKS  = True  # True = symlink original, False = save image\n",
    "# ───────────────────────────────────────────────────────────────────────\n",
    "\n",
    "def safe_mkdir(p: Path):\n",
    "    p.mkdir(parents=True, exist_ok=True)\n",
    "\n",
    "def reset_dir(p: Path):\n",
    "    if p.exists():\n",
    "        shutil.rmtree(p)\n",
    "    safe_mkdir(p)\n",
    "\n",
    "# 1️⃣ Clean previous work (optional)\n",
    "reset_dir(IMG_ROOT)\n",
    "for p in SPLIT_DIRS.values():\n",
    "    reset_dir(p)\n",
    "safe_mkdir(SUN_ROOT)\n",
    "\n",
    "# 2️⃣ Load HF dataset\n",
    "ds = load_dataset(\"tanganke/sun397\")\n",
    "\n",
    "# 3️⃣ Save images and create class folders\n",
    "split_lists = {s: [] for s in SPLITS}\n",
    "for split in SPLITS:\n",
    "    print(f\"Processing split: {split}\")\n",
    "    for ex in tqdm(ds[split]):\n",
    "        label_idx = ex[\"label\"]\n",
    "        cls = ds[split].features[\"label\"].int2str(label_idx)\n",
    "        img: Image.Image = ex[\"image\"]\n",
    "        sha1 = hashlib.sha1(img.tobytes()).hexdigest()[:16]\n",
    "        fname = f\"{cls}_{sha1}.jpg\"\n",
    "\n",
    "        src_dir = IMG_ROOT / cls\n",
    "        dst_dir = SPLIT_DIRS[split] / cls\n",
    "        src_path = src_dir / fname\n",
    "        dst_path = dst_dir / fname\n",
    "\n",
    "        safe_mkdir(src_dir)\n",
    "        safe_mkdir(dst_dir)\n",
    "\n",
    "        if not src_path.exists():\n",
    "            if MAKE_LINKS and \"file\" in ex and Path(ex[\"file\"]).is_file():\n",
    "                os.symlink(os.path.abspath(ex[\"file\"]), src_path)\n",
    "            else:\n",
    "                if img.mode != \"RGB\":\n",
    "                    img = img.convert(\"RGB\")\n",
    "                img.save(src_path)\n",
    "\n",
    "        if not dst_path.exists():\n",
    "            os.symlink(src_path, dst_path)\n",
    "\n",
    "        split_lists[split].append(fname)\n",
    "\n",
    "# 4️⃣ Save list of image files (optional)\n",
    "for split, names in split_lists.items():\n",
    "    txt_path = SUN_ROOT / f\"sun397-{split}.txt\"\n",
    "    with open(txt_path, \"w\") as f:\n",
    "        f.write(\"\\n\".join(names))\n",
    "    print(f\"✅ wrote {txt_path.relative_to(BASE_DIR)}  ({len(names)} images)\")\n",
    "    print(f\"✅ ready at split folder: {SPLIT_DIRS[split].relative_to(BASE_DIR)}\")\n",
    "\n",
    "print(\"\\n🎉  SUN397 ready at:\", SUN_ROOT)\n",
    "print(\"   Use these in ImageFolder:\")\n",
    "print(\"    \", SPLIT_DIRS[\"train\"])\n",
    "print(\"    \", SPLIT_DIRS[\"test\"])\n"
   ]
  },
  {
   "cell_type": "code",
   "execution_count": 26,
   "id": "3f756b1a",
   "metadata": {},
   "outputs": [
    {
     "data": {
      "application/vnd.jupyter.widget-view+json": {
       "model_id": "86e2b92845f64d14ac7db7f11e730439",
       "version_major": 2,
       "version_minor": 0
      },
      "text/plain": [
       "Resolving data files:   0%|          | 0/18 [00:00<?, ?it/s]"
      ]
     },
     "metadata": {},
     "output_type": "display_data"
    },
    {
     "data": {
      "application/vnd.jupyter.widget-view+json": {
       "model_id": "d7f670c67054449b89641ce428bf71d2",
       "version_major": 2,
       "version_minor": 0
      },
      "text/plain": [
       "Resolving data files:   0%|          | 0/18 [00:00<?, ?it/s]"
      ]
     },
     "metadata": {},
     "output_type": "display_data"
    },
    {
     "data": {
      "application/vnd.jupyter.widget-view+json": {
       "model_id": "85e694565d774994913e57ea9b14d10c",
       "version_major": 2,
       "version_minor": 0
      },
      "text/plain": [
       "Resolving data files:   0%|          | 0/18 [00:00<?, ?it/s]"
      ]
     },
     "metadata": {},
     "output_type": "display_data"
    },
    {
     "data": {
      "application/vnd.jupyter.widget-view+json": {
       "model_id": "1ad432cc5c76465bbd7aa14568fde328",
       "version_major": 2,
       "version_minor": 0
      },
      "text/plain": [
       "Resolving data files:   0%|          | 0/18 [00:00<?, ?it/s]"
      ]
     },
     "metadata": {},
     "output_type": "display_data"
    },
    {
     "name": "stdout",
     "output_type": "stream",
     "text": [
      "Processing split: val\n"
     ]
    },
    {
     "ename": "KeyError",
     "evalue": "'val'",
     "output_type": "error",
     "traceback": [
      "\u001b[0;31m---------------------------------------------------------------------------\u001b[0m",
      "\u001b[0;31mKeyError\u001b[0m                                  Traceback (most recent call last)",
      "Cell \u001b[0;32mIn[26], line 35\u001b[0m\n\u001b[1;32m     33\u001b[0m split_list \u001b[38;5;241m=\u001b[39m []\n\u001b[1;32m     34\u001b[0m \u001b[38;5;28mprint\u001b[39m(\u001b[38;5;124mf\u001b[39m\u001b[38;5;124m\"\u001b[39m\u001b[38;5;124mProcessing split: \u001b[39m\u001b[38;5;132;01m{\u001b[39;00mSPLIT\u001b[38;5;132;01m}\u001b[39;00m\u001b[38;5;124m\"\u001b[39m)\n\u001b[0;32m---> 35\u001b[0m \u001b[38;5;28;01mfor\u001b[39;00m ex \u001b[38;5;129;01min\u001b[39;00m tqdm(ds[SPLIT]):\n\u001b[1;32m     36\u001b[0m     label_idx \u001b[38;5;241m=\u001b[39m ex[\u001b[38;5;124m\"\u001b[39m\u001b[38;5;124mlabel\u001b[39m\u001b[38;5;124m\"\u001b[39m]\n\u001b[1;32m     37\u001b[0m     \u001b[38;5;28mcls\u001b[39m \u001b[38;5;241m=\u001b[39m ds[SPLIT]\u001b[38;5;241m.\u001b[39mfeatures[\u001b[38;5;124m\"\u001b[39m\u001b[38;5;124mlabel\u001b[39m\u001b[38;5;124m\"\u001b[39m]\u001b[38;5;241m.\u001b[39mint2str(label_idx)\n",
      "File \u001b[0;32m/opt/anaconda3/envs/guyb_fml/lib/python3.11/site-packages/datasets/dataset_dict.py:75\u001b[0m, in \u001b[0;36mDatasetDict.__getitem__\u001b[0;34m(self, k)\u001b[0m\n\u001b[1;32m     73\u001b[0m \u001b[38;5;28;01mdef\u001b[39;00m \u001b[38;5;21m__getitem__\u001b[39m(\u001b[38;5;28mself\u001b[39m, k) \u001b[38;5;241m-\u001b[39m\u001b[38;5;241m>\u001b[39m Dataset:\n\u001b[1;32m     74\u001b[0m     \u001b[38;5;28;01mif\u001b[39;00m \u001b[38;5;28misinstance\u001b[39m(k, (\u001b[38;5;28mstr\u001b[39m, NamedSplit)) \u001b[38;5;129;01mor\u001b[39;00m \u001b[38;5;28mlen\u001b[39m(\u001b[38;5;28mself\u001b[39m) \u001b[38;5;241m==\u001b[39m \u001b[38;5;241m0\u001b[39m:\n\u001b[0;32m---> 75\u001b[0m         \u001b[38;5;28;01mreturn\u001b[39;00m \u001b[38;5;28msuper\u001b[39m()\u001b[38;5;241m.\u001b[39m\u001b[38;5;21m__getitem__\u001b[39m(k)\n\u001b[1;32m     76\u001b[0m     \u001b[38;5;28;01melse\u001b[39;00m:\n\u001b[1;32m     77\u001b[0m         available_suggested_splits \u001b[38;5;241m=\u001b[39m [\n\u001b[1;32m     78\u001b[0m             split \u001b[38;5;28;01mfor\u001b[39;00m split \u001b[38;5;129;01min\u001b[39;00m (Split\u001b[38;5;241m.\u001b[39mTRAIN, Split\u001b[38;5;241m.\u001b[39mTEST, Split\u001b[38;5;241m.\u001b[39mVALIDATION) \u001b[38;5;28;01mif\u001b[39;00m split \u001b[38;5;129;01min\u001b[39;00m \u001b[38;5;28mself\u001b[39m\n\u001b[1;32m     79\u001b[0m         ]\n",
      "\u001b[0;31mKeyError\u001b[0m: 'val'"
     ]
    }
   ],
   "source": [
    "import os, shutil, hashlib\n",
    "from pathlib import Path\n",
    "from datasets import load_dataset\n",
    "from tqdm.auto import tqdm\n",
    "from PIL import Image\n",
    "\n",
    "# ── config ─────────────────────────────────────────────────────────────\n",
    "BASE_DIR   = Path(\"~/Documents/data\").expanduser()\n",
    "SUN_ROOT   = BASE_DIR / \"sun397_val_only\"\n",
    "IMG_ROOT   = SUN_ROOT / \"SUN397\"\n",
    "SPLIT      = \"val\"\n",
    "SPLIT_DIR  = SUN_ROOT / SPLIT\n",
    "MAKE_LINKS = True  # True = symlink original, False = save image\n",
    "# ───────────────────────────────────────────────────────────────────────\n",
    "\n",
    "def safe_mkdir(p: Path):\n",
    "    p.mkdir(parents=True, exist_ok=True)\n",
    "\n",
    "def reset_dir(p: Path):\n",
    "    if p.exists():\n",
    "        shutil.rmtree(p)\n",
    "    safe_mkdir(p)\n",
    "\n",
    "# 1️⃣ Clean previous work\n",
    "reset_dir(IMG_ROOT)\n",
    "reset_dir(SPLIT_DIR)\n",
    "safe_mkdir(SUN_ROOT)\n",
    "\n",
    "# 2️⃣ Load HF dataset\n",
    "ds = load_dataset(\"tanganke/sun397\")\n",
    "\n",
    "# 3️⃣ Save images and create class folders\n",
    "split_list = []\n",
    "print(f\"Processing split: {SPLIT}\")\n",
    "for ex in tqdm(ds[SPLIT]):\n",
    "    label_idx = ex[\"label\"]\n",
    "    cls = ds[SPLIT].features[\"label\"].int2str(label_idx)\n",
    "    img: Image.Image = ex[\"image\"]\n",
    "    sha1 = hashlib.sha1(img.tobytes()).hexdigest()[:16]\n",
    "    fname = f\"{cls}_{sha1}.jpg\"\n",
    "\n",
    "    src_dir = IMG_ROOT / cls\n",
    "    dst_dir = SPLIT_DIR / cls\n",
    "    src_path = src_dir / fname\n",
    "    dst_path = dst_dir / fname\n",
    "\n",
    "    safe_mkdir(src_dir)\n",
    "    safe_mkdir(dst_dir)\n",
    "\n",
    "    if not src_path.exists():\n",
    "        if MAKE_LINKS and \"file\" in ex and Path(ex[\"file\"]).is_file():\n",
    "            os.symlink(os.path.abspath(ex[\"file\"]), src_path)\n",
    "        else:\n",
    "            if img.mode != \"RGB\":\n",
    "                img = img.convert(\"RGB\")\n",
    "            img.save(src_path)\n",
    "\n",
    "    if not dst_path.exists():\n",
    "        os.symlink(src_path, dst_path)\n",
    "\n",
    "    split_list.append(fname)\n",
    "\n",
    "# 4️⃣ Save list of image files (optional)\n",
    "txt_path = SUN_ROOT / f\"sun397-{SPLIT}.txt\"\n",
    "with open(txt_path, \"w\") as f:\n",
    "    f.write(\"\\n\".join(split_list))\n",
    "print(f\"✅ wrote {txt_path.relative_to(BASE_DIR)}  ({len(split_list)} images)\")\n",
    "print(f\"✅ ready at split folder: {SPLIT_DIR.relative_to(BASE_DIR)}\")\n",
    "\n",
    "print(\"\\n🎉  SUN397 val split ready at:\", SUN_ROOT)\n",
    "print(\"   Use this in ImageFolder:\")\n",
    "print(\"    \", SPLIT_DIR)\n"
   ]
  },
  {
   "cell_type": "code",
   "execution_count": null,
   "id": "d8cfc463",
   "metadata": {},
   "outputs": [],
   "source": []
  },
  {
   "cell_type": "code",
   "execution_count": null,
   "id": "c2867d35",
   "metadata": {},
   "outputs": [],
   "source": []
  },
  {
   "cell_type": "code",
   "execution_count": null,
   "id": "8af2ab86",
   "metadata": {},
   "outputs": [],
   "source": []
  },
  {
   "cell_type": "code",
   "execution_count": null,
   "id": "6aab93bf",
   "metadata": {},
   "outputs": [],
   "source": []
  },
  {
   "cell_type": "code",
   "execution_count": null,
   "id": "4aea6a46",
   "metadata": {},
   "outputs": [],
   "source": []
  },
  {
   "cell_type": "code",
   "execution_count": null,
   "id": "a07d30c6",
   "metadata": {},
   "outputs": [],
   "source": []
  },
  {
   "cell_type": "code",
   "execution_count": null,
   "id": "5701c569",
   "metadata": {},
   "outputs": [],
   "source": [
    "# 1. Load CIFAR10\n",
    "transform = transforms.Compose([\n",
    "    transforms.Resize((224, 224)),\n",
    "    transforms.ToTensor(),\n",
    "    transforms.Normalize((0.5,), (0.5,)),\n",
    "])\n",
    "\n",
    "trainset = CIFAR10(root='./data', train=True, download=True, transform=transform)\n",
    "testset = CIFAR10(root='./data', train=False, download=True, transform=transform)"
   ]
  },
  {
   "cell_type": "code",
   "execution_count": null,
   "id": "3c84c072",
   "metadata": {},
   "outputs": [],
   "source": [
    "# 2. Wrap into HF dataset for Trainer compatibility\n",
    "def convert_to_hf(ds):\n",
    "    return Dataset.from_dict({\n",
    "        'pixel_values': [img.numpy() for img, _ in ds],\n",
    "        'labels': [label for _, label in ds],\n",
    "    })\n",
    "\n",
    "train_dataset = convert_to_hf(trainset)\n",
    "eval_dataset = convert_to_hf(testset)"
   ]
  },
  {
   "cell_type": "code",
   "execution_count": null,
   "id": "6044620e",
   "metadata": {},
   "outputs": [],
   "source": [
    "# 3. Load CLIP (ViT-B-32) model & processor\n",
    "model_name = \"openai/clip-vit-base-patch32\"\n",
    "model = CLIPModel.from_pretrained(model_name)\n",
    "processor = CLIPProcessor.from_pretrained(model_name)"
   ]
  },
  {
   "cell_type": "code",
   "execution_count": null,
   "id": "dabc3bce",
   "metadata": {},
   "outputs": [],
   "source": [
    "# 4. Add RandLoRA\n",
    "peft_config = RandLoRAConfig(\n",
    "    r=6,\n",
    "    target_modules=[\"q_proj\", \"v_proj\"],  # Modify as needed for CLIP\n",
    "    task_type=TaskType.VISION,\n",
    "    rank_pattern=\"normal\",  # optional\n",
    ")\n",
    "\n",
    "model = get_peft_model(model, peft_config)"
   ]
  },
  {
   "cell_type": "code",
   "execution_count": null,
   "id": "50e62dff",
   "metadata": {},
   "outputs": [],
   "source": [
    "# 5. Data preprocessing\n",
    "def preprocess(batch):\n",
    "    inputs = processor(images=[torch.tensor(x) for x in batch[\"pixel_values\"]], return_tensors=\"pt\", padding=True)\n",
    "    inputs[\"labels\"] = batch[\"labels\"]\n",
    "    return inputs\n",
    "\n",
    "train_dataset = train_dataset.map(preprocess, batched=True)\n",
    "eval_dataset = eval_dataset.map(preprocess, batched=True)"
   ]
  },
  {
   "cell_type": "code",
   "execution_count": null,
   "id": "70a24ae6",
   "metadata": {},
   "outputs": [],
   "source": [
    "\n",
    "# Assume batch_size is 32 to compute gradient accumulation steps (128 // 32 = 4)\n",
    "batch_size = 32\n",
    "num_grad_accumulation = floor(128 / batch_size)\n",
    "\n",
    "training_args = TrainingArguments(\n",
    "    output_dir=\"./randlora_cifar10\",\n",
    "    evaluation_strategy=\"epoch\",\n",
    "    save_strategy=\"epoch\",\n",
    "    per_device_train_batch_size=batch_size,\n",
    "    per_device_eval_batch_size=batch_size,\n",
    "    num_train_epochs=5,                           # or set dynamically from args.epochs\n",
    "    learning_rate=1e-3,                           # match your default classifier LR (if not using lp_clip)\n",
    "    weight_decay=0.01,                            # match args.wd (adjust if different)\n",
    "    gradient_accumulation_steps=num_grad_accumulation,\n",
    "    lr_scheduler_type=\"cosine\",                   # match your cosine_lr() scheduler\n",
    "    logging_steps=10,\n",
    "    report_to=\"none\",\n",
    "    remove_unused_columns=False,\n",
    "    fp16=False,                                   # use bf16 in your script, so keep this False unless you prefer fp16\n",
    "    bf16=True if torch.cuda.is_available() else False,\n",
    ")\n"
   ]
  },
  {
   "cell_type": "code",
   "execution_count": null,
   "id": "0f777901",
   "metadata": {},
   "outputs": [],
   "source": [
    "# 7. Trainer\n",
    "trainer = Trainer(\n",
    "    model=model,\n",
    "    args=training_args,\n",
    "    train_dataset=train_dataset,\n",
    "    eval_dataset=eval_dataset,\n",
    ")"
   ]
  },
  {
   "cell_type": "code",
   "execution_count": null,
   "id": "7b5836e7",
   "metadata": {},
   "outputs": [],
   "source": [
    "# 8. Train\n",
    "trainer.train()"
   ]
  }
 ],
 "metadata": {
  "kernelspec": {
   "display_name": "guyb_fml",
   "language": "python",
   "name": "python3"
  },
  "language_info": {
   "codemirror_mode": {
    "name": "ipython",
    "version": 3
   },
   "file_extension": ".py",
   "mimetype": "text/x-python",
   "name": "python",
   "nbconvert_exporter": "python",
   "pygments_lexer": "ipython3",
   "version": "3.11.8"
  }
 },
 "nbformat": 4,
 "nbformat_minor": 5
}
