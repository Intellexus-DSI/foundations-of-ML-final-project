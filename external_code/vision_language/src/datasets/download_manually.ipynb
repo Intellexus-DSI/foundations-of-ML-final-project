{
 "cells": [
  {
   "cell_type": "code",
   "execution_count": null,
   "id": "a029c934",
   "metadata": {},
   "outputs": [],
   "source": [
    "import os\n",
    "import urllib.request\n",
    "import tarfile\n",
    "from pathlib import Path\n"
   ]
  },
  {
   "cell_type": "code",
   "execution_count": 7,
   "id": "f52a5079",
   "metadata": {},
   "outputs": [],
   "source": [
    "from pathlib import Path\n",
    "\n",
    "# Use external storage as \"home\"\n",
    "CUSTOM_HOME = Path(\"~/gpufs\").expanduser()\n",
    "\n",
    "DATA_ROOT = CUSTOM_HOME / \"data\" / \"dtd\"\n",
    "RAW_DIR = CUSTOM_HOME / \"data\" / \"dtd_raw\"\n",
    "TAR_PATH = CUSTOM_HOME / \"data\" / \"dtd.tar.gz\"\n",
    "URL = \"http://www.robots.ox.ac.uk/~vgg/data/dtd/download/dtd-r1.0.1.tar.gz\"\n"
   ]
  },
  {
   "cell_type": "code",
   "execution_count": null,
   "id": "17fde408",
   "metadata": {},
   "outputs": [
    {
     "name": "stdout",
     "output_type": "stream",
     "text": [
      "Downloading DTD dataset to /home/guyb/gpufs/data/dtd.tar.gz...\n"
     ]
    }
   ],
   "source": [
    "# --- Step 1: Download ---\n",
    "DATA_ROOT.mkdir(parents=True, exist_ok=True)\n",
    "if not TAR_PATH.exists():\n",
    "    print(f\"Downloading DTD dataset to {TAR_PATH}...\")\n",
    "    urllib.request.urlretrieve(URL, TAR_PATH)\n",
    "    print(\"Download complete.\")"
   ]
  },
  {
   "cell_type": "code",
   "execution_count": null,
   "id": "172c22cf",
   "metadata": {},
   "outputs": [],
   "source": [
    "# --- Step 2: Extract ---\n",
    "if not RAW_DIR.exists():\n",
    "    print(\"Extracting dataset...\")\n",
    "    with tarfile.open(TAR_PATH) as tar:\n",
    "        tar.extractall(path=RAW_DIR.parent)\n",
    "    RAW_DIR.rename(RAW_DIR)  # rename extracted `dtd/` to `dtd_raw/`\n",
    "    print(\"Extraction complete.\")"
   ]
  },
  {
   "cell_type": "code",
   "execution_count": null,
   "id": "0afe938a",
   "metadata": {},
   "outputs": [],
   "source": [
    "# --- Step 3: Organize splits ---\n",
    "for split in ['train', 'val', 'test']:\n",
    "    split_file = RAW_DIR / \"labels\" / f\"{split}1.txt\"\n",
    "    split_dir = DATA_ROOT / split\n",
    "    split_dir.mkdir(parents=True, exist_ok=True)\n",
    "\n",
    "    with open(split_file) as f:\n",
    "        for line in f:\n",
    "            rel_path = line.strip()\n",
    "            class_name = rel_path.split(\"/\")[0]\n",
    "            class_dir = split_dir / class_name\n",
    "            class_dir.mkdir(parents=True, exist_ok=True)\n",
    "\n",
    "            src = RAW_DIR / \"images\" / rel_path + \".jpg\"\n",
    "            dst = class_dir / Path(rel_path).name\n",
    "            if not dst.exists():\n",
    "                os.symlink(src, dst)\n",
    "\n",
    "print(f\"✅ DTD is ready at {DATA_ROOT}\")"
   ]
  }
 ],
 "metadata": {
  "kernelspec": {
   "display_name": "guyb_env2",
   "language": "python",
   "name": "python3"
  },
  "language_info": {
   "codemirror_mode": {
    "name": "ipython",
    "version": 3
   },
   "file_extension": ".py",
   "mimetype": "text/x-python",
   "name": "python",
   "nbconvert_exporter": "python",
   "pygments_lexer": "ipython3",
   "version": "3.11.8"
  }
 },
 "nbformat": 4,
 "nbformat_minor": 5
}
